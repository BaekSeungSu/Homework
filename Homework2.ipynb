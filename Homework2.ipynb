{
 "cells": [
  {
   "cell_type": "markdown",
   "id": "528a7c4f",
   "metadata": {},
   "source": [
    "1. 다음 6 개의 Expression에 대해 Evaluation 결과 값을 출력하고, 해당 결과가 나온 이유에 대해 설명하시오  \n",
    "    * 1 and 2 and 3 and 4  \n",
    "    * 1 or 2 or 3 or 4  \n",
    "    * 1 and 2 or 3 and 4  \n",
    "    * (1 and 2) or (3 and 4)  \n",
    "    * 1 or 2 and 3 or 4  \n",
    "    * (1 or 2) and (3 or 4)  "
   ]
  },
  {
   "cell_type": "code",
   "execution_count": 7,
   "id": "88133301",
   "metadata": {},
   "outputs": [
    {
     "data": {
      "text/plain": [
       "4"
      ]
     },
     "execution_count": 7,
     "metadata": {},
     "output_type": "execute_result"
    }
   ],
   "source": [
    "1 and 2 and 3 and 4"
   ]
  },
  {
   "cell_type": "code",
   "execution_count": 8,
   "id": "f83f72e8",
   "metadata": {},
   "outputs": [
    {
     "data": {
      "text/plain": [
       "1"
      ]
     },
     "execution_count": 8,
     "metadata": {},
     "output_type": "execute_result"
    }
   ],
   "source": [
    "1 or 2 or 3 or 4"
   ]
  },
  {
   "cell_type": "code",
   "execution_count": 9,
   "id": "5f9de681",
   "metadata": {},
   "outputs": [
    {
     "data": {
      "text/plain": [
       "2"
      ]
     },
     "execution_count": 9,
     "metadata": {},
     "output_type": "execute_result"
    }
   ],
   "source": [
    "1 and 2 or 3 and 4"
   ]
  },
  {
   "cell_type": "code",
   "execution_count": 10,
   "id": "2b328807",
   "metadata": {},
   "outputs": [
    {
     "data": {
      "text/plain": [
       "2"
      ]
     },
     "execution_count": 10,
     "metadata": {},
     "output_type": "execute_result"
    }
   ],
   "source": [
    "(1 and 2) or (3 and 4)"
   ]
  },
  {
   "cell_type": "code",
   "execution_count": 11,
   "id": "19a28272",
   "metadata": {},
   "outputs": [
    {
     "data": {
      "text/plain": [
       "1"
      ]
     },
     "execution_count": 11,
     "metadata": {},
     "output_type": "execute_result"
    }
   ],
   "source": [
    "1 or 2 and 3 or 4"
   ]
  },
  {
   "cell_type": "code",
   "execution_count": 12,
   "id": "de94ec7e",
   "metadata": {},
   "outputs": [
    {
     "data": {
      "text/plain": [
       "3"
      ]
     },
     "execution_count": 12,
     "metadata": {},
     "output_type": "execute_result"
    }
   ],
   "source": [
    "(1 or 2) and (3 or 4)"
   ]
  },
  {
   "cell_type": "markdown",
   "id": "f6182c8a",
   "metadata": {},
   "source": [
    "1번문제 설명  \n",
    "  \n",
    "1,2 ,3 ,4 는 모두 True이다.  \n",
    "  \n",
    "1 and 2 and 3 and 4 : and 연산자는 요소들이 다 True 일때만 True를 출력한다. 따라서 오른쪽을 출력하기 때문에 제일 오른쪽 값인 4를 출력한다.  \n",
    "  \n",
    "1 or 2 or 3 or 4 : or 연산자는 요소들 중 하나만 True여도 True를 출력한다. 따라서 왼쪽을 우선 출력하기 떄문에 제일 왼쪽값인 1을 출력한다.  \n",
    "  \n",
    "1 and 2 or 3 and 4 : and, or 연산자중 연산자 우선순위는 and 연산자가 더 높다 따라서 1 and 2와 3 and 4 를 먼저 처리한다. 그렇게 되면 and 연산자는 두 값이 다 True일 경우 오른쪽을 출력하기 때문에 2 or 4가 남는다. or연산은 두 요소중 하나만 True 여도 True를 출력하고 왼쪽을 우선 출력하기 때문에 2가 출력된다.  \n",
    "  \n",
    "(1 and 2) or (3 and 4) : 위에서도 기술했듯이 파이썬은 이미 and와 or 중에 and 연산자의 우선순위가 높다. 따라서 (1 and 2) or (3 and 4) 라는 코드는 1 and 2 or 3 and 4 와 같은 코드이다. 결국 위의 코드와 같은 코드로 볼 수 있기 때문에 2라는 값이 출력된다.  \n",
    "  \n",
    "1 or 2 and 3 or 4 : 파이썬의 연산자 우선 순위를 통해 2 and 3이 먼저 처리된다. and 연산자는 오른쪽을 출력하기 때문에 2 and 3의 결과는 3이 된다. 다음으로 or 연산자가 처리되는데 2 and 3이 실행되었으므로 1 or 3 or 4가 처리된다. or 연산자는 요소들 중 하나만 True여도 True를 출력하고 왼쪽을 우선 출력하기 때문에 1이 출력된다.  \n",
    "  \n",
    "(1 or 2) and (3 or 4) : 괄호를 통해 연산자의 우선순위가 더 높은 and 보다 or연산자가 먼저 수행되도록 하는 코드이다. 먼저 1 or 2를 처리하고 다음으로 3 or 4를 처리한다. or 연산자는 왼쪽을 우선 출력하기 때문에 1 or 2 의 결과는 1 이되고 3 or 4의 결과는 3이 된다. 마지막으로 1 and 3을 처리하는데 and 연산자는 둘 다 True일 때만 True 이고 오른쪽을 출력하므로 3을 출력한다.\n"
   ]
  },
  {
   "cell_type": "markdown",
   "id": "a12947ab",
   "metadata": {},
   "source": [
    "2. 경로에 해당하는 문자열 1개를 입력 받아 그 안에 디렉토리 경로명과 파일명을 분리하여 리스트로 반환하는 함수 div_path(s)를 작성하시오.  \n",
    "    * 인자로 전달하는 문자열은 경로만 들어간다고 가정한다.  \n",
    "    * 각 디렉토리와 파일을 구분하는 문자는 '/'로 가정한다.  \n",
    "    * 반환하는 리스트의 첫번째 원소는 디렉토리이고 두번째 원소는 파일명이다.  \n",
    "    * 다음과 같은 실행 및 출력 결과가 도출되어야 한다.  \n",
    "    * div_path('/usr/local/bin/python')  \n",
    "        + ['/usr/local/bin', 'python']  \n",
    "    * iv_path('/home/chulsoo/test.txt')  \n",
    "        + ['/home/chulsoo', 'test.txt']  \n",
    "    * [참고] 리스트(l) 내에 새로운 정수값 (예를 들어 10)을 넣는 방법은 l.append(10) 이다."
   ]
  },
  {
   "cell_type": "code",
   "execution_count": 76,
   "id": "83ec1bb7",
   "metadata": {},
   "outputs": [
    {
     "name": "stdout",
     "output_type": "stream",
     "text": [
      "경로입력 : '/usr/local/bin/python'\n",
      "['/usr/local/bin', 'python']\n"
     ]
    }
   ],
   "source": [
    "s=input(\"경로입력 : \") #사용자로부터 문자열 s를 입력받음\n",
    "\n",
    "def div_path(s): #디렉토리 경로명과 파일명을 분리하여 리스트로 반환하는 함수\n",
    "    s = s.strip(\"'\") #strip을 이용하여 앞뒤 '  문자 제거하여 s 에 저장\n",
    "    l=s.split('/') #split을 이용하여  구분 문자열을 '/'  로 하여 문자열을 나누고 리스트 l 에 저장\n",
    "    fn= l.pop() # 리스트 l 의 맨 뒤의 항목은 파일명이기 때문에 pop을 사용하여 fn에 저장\n",
    "    dr='/'.join(l) #join을 이용하여 구분자 문자열 '/'로 리스트 l 의 각 요소들을 연결하여 문자열로 dr에 저장\n",
    "    dr_fn=list() #디렉토리_파일이름을 뜻하는 list dr_fn을 선언\n",
    "    dr_fn.append(dr) #dr_fn 리스트에 먼저 문자열 dr을 추가\n",
    "    dr_fn.append(fn) #dr_fn 리스트에 파일 이름을 추가\n",
    "    return dr_fn #dr_fn리스트 반환\n",
    "\n",
    "print(div_path(s)) # 함수 실행"
   ]
  },
  {
   "cell_type": "markdown",
   "id": "939300dc",
   "metadata": {},
   "source": [
    "2번 문제 설명  \n",
    "1. 사용자로부터 문자열 s를 입력받는다.  \n",
    "2. 디렉토리 경로명과 파일명을 분리하여 리스트로 반환하는 함수 div_path(s)를 선언한다.\n",
    "3. s.strip(\"'\")을 통해 문자열 앞뒤의 작은따음표 '를 제거하여 s에 저장한다.\n",
    "4. s.split('/')에서 구분 문자열을 '/'로 하여 문자열을 구분하고 리스트 l 에 저장한다.\n",
    "5. l.pop()을 통해 리스트 l 의 맨 뒤의 항목인 파일명을 리스트에서 제거, 반환하고 fn에 저장한다.\n",
    "6. join을 이용하여 구분자 문자열 '/'로 리스트 l의 각 요소들을 연결하여 문자열로 dr에 저장한다.\n",
    "7. 디렉토리경로_파일이름 을 뜻하는 list dr_fn을 선언한다.\n",
    "8. append를 이용하여 dr(디렉토리 경로)를 dr_fn에 먼저 추가한다.\n",
    "9. append를 이용하여 fn(파일명)을 dr_fn의 후단에 추가한다.\n",
    "10. dr_fn을 반환한다.\n",
    "11. 결과를 확인한다."
   ]
  },
  {
   "cell_type": "markdown",
   "id": "b2a4b062",
   "metadata": {},
   "source": [
    "3. 두 개의 리스트를 인자로 받아서 그 두 개의 리스트에 대한 '합집합'을 반환하는 함수 list_union(lista, listb)를 작성하시오.\n",
    "    * 집합 자료형 set은 사용하지 않는다.\n",
    "    * 인자로 전달하는 리스트 2 개에는 정수값만 들어간다고 가정하자.\n",
    "    * 함수 내에서 새로운 리스트를 만들어 그 리스트 내에 인자로 받은 두 리스트의 모든 원소를 넣어 반환한다.\n",
    "    * 반환하는 리스트에는 절대로 중복된 원소가 들어 있으면 안된다 (집합의 조건).\n",
    "    * 반환하는 리스트는 정렬이 되어 있어야 한다.\n",
    "    * 다음과 같은 실행 및 출력 결과가 도출되어야 한다.\n",
    "        + list_union([1, 2, 3], [1, 2, 4])\n",
    "            - [1, 2, 3, 4]\n",
    "        + list_union([-10, -5, 0, -1], [100, 9, 0, 9])\n",
    "            - [-10, -5, -1, 0, 9, 100]\n",
    "        + list_union([0, 1, 2], [0, 1, 2])\n",
    "            - [0, 1, 2]\n",
    "    * [참고] 리스트(l) 내에 새로운 정수값 (예를 들어 10)을 넣는 방법은 l.append(10) 이다.\n",
    "    * [참고] 임의의 정수값 (x)이 리스트 (l) 내에 존재하는지 판단하는 방법은 x in l 이다."
   ]
  },
  {
   "cell_type": "code",
   "execution_count": 85,
   "id": "83b9d9aa",
   "metadata": {},
   "outputs": [
    {
     "name": "stdout",
     "output_type": "stream",
     "text": [
      "[1, 2, 3, 4]\n",
      "[-10, -5, -1, 0, 9, 100]\n",
      "[0, 1, 2]\n"
     ]
    }
   ],
   "source": [
    "#예시로 쓰기위한 리스트들\n",
    "a = [1, 2, 3]\n",
    "b = [1, 2, 4]\n",
    "c = [-10, -5, 0, -1]\n",
    "d = [100, 9, 0, 9]\n",
    "e = [0, 1, 2]\n",
    "f = [0, 1, 2]\n",
    "\n",
    "def list_union(lista,listb): #두 개의 리스트에 대한 '합집합'을 반환하는 함수\n",
    "    l = list() # l 이라는 리스트 선언\n",
    "    union = list() #합집합 의미를 가지고 있는 union 리스트 선언\n",
    "    l = lista + listb #l 리스트에 인자로 받은 두 리스트를 이어붙힌다\n",
    "    for i in l:  # 리스트내의 요소의 개수만큼 반복\n",
    "        if i not in union: #union 이라는 리스트에 i 즉 리스트 l의 요소가 들어있지 않다면\n",
    "            union.append(i) #append를 이용하여 union리스트에 추가\n",
    "    return sorted(union) # 정렬된 union 리스트를 반환\n",
    "\n",
    "print(list_union(a,b))\n",
    "print(list_union(c,d))\n",
    "print(list_union(e,f))"
   ]
  },
  {
   "cell_type": "markdown",
   "id": "b61410ac",
   "metadata": {},
   "source": [
    "3번 문제 설명  \n",
    "1. 예시로 쓰기 위한 리스트들인 a~f를 작성한다.\n",
    "2. 두 개의 리스트에 대한 '합집합'을 반환하는 함수 list_union(lista,listb)를 선언한다.\n",
    "3. 새로운 리스트 l 을 선언한다.\n",
    "4. 새로운 리스트 union을 선언한다. \n",
    "5. l 리스트에 인자로 받은 두 리스트를 이어붙힌다.\n",
    "6. for문을 이용하여 리스트내의 요소의 개수만큼 반복하도록한다. 이 때 i에는 l 리스트의 요소들이 처음부터 순서대로 들어간다.\n",
    "7. if문을 통해 union이라는 리스트에 i가 들어있지 않다면\n",
    "8. append를 이용하여 union리스트에 추가한다.\n",
    "9. return sorted(union)을 통해 정렬된 union 리스트를 반환한다.\n",
    "10. 결과를 확인한다."
   ]
  },
  {
   "cell_type": "markdown",
   "id": "17b3819d",
   "metadata": {},
   "source": [
    "4. 두 개의 리스트를 인자로 받아서 그 두 개의 리스트에 대한 '교집합'을 반환하는 함수 list_intersection(lista, listb)와 '차집합'을 반환하는 함수 list_difference(lista, listb)를 작성하시오.  \n",
    "    * 모든 가정과 조건은 3번 문제와 동일하다."
   ]
  },
  {
   "cell_type": "code",
   "execution_count": 9,
   "id": "86b8b901",
   "metadata": {},
   "outputs": [
    {
     "name": "stdout",
     "output_type": "stream",
     "text": [
      "[1, 2]\n",
      "[-5, 0]\n",
      "[0, 1, 2]\n",
      "\n",
      "[3]\n",
      "[4]\n",
      "[-10, -1]\n",
      "[8, 9]\n",
      "[]\n",
      "[]\n"
     ]
    }
   ],
   "source": [
    "#예시로 쓰기위한 리스트들\n",
    "a = [1, 2, 3]\n",
    "b = [1, 2, 4]\n",
    "c = [-10, -5, 0, -1]\n",
    "d = [ 9, 0, 8,-5]\n",
    "e = [0, 1, 2]\n",
    "f = [0, 1, 2]\n",
    "\n",
    "def list_intersection(lista, listb): #두 개의 리스트에 대한 '교집합'을 반환하는 함수\n",
    "    l = list()# l 이라는 리스트 선언\n",
    "    intersec = list() #교집합 의미를 가지고 있는 intersec 리스트 선언\n",
    "    l = lista + listb #l 리스트에 인자로 받은 두 리스트를 이어붙힌다\n",
    "    for i in l:  # 리스트내의 요소의 개수만큼 반복\n",
    "        if i in lista and i in listb and i not in intersec: # i 즉 리스트 l 의 요소가 lista와 listb에 모두 들어있고 intersec리스트에 이미 들어있지 않다면\n",
    "            intersec.append(i)\n",
    "    return sorted(intersec) # 정렬된 intersec 리스트를 반환\n",
    "\n",
    "def list_difference(lista, listb): #두 개의 리스트에  대한 '차집합'을 반환하는 함수\n",
    "    differ = list() #차집합 의미를 가지고 있는 differ 리스트 선언\n",
    "    for i in lista: #lista에 존재하고\n",
    "        if i not in listb: #listb에 존재하지 않을경우\n",
    "            differ.append(i) #differ 리스트에 i를 추가\n",
    "    return  sorted(differ) #정렬된 differ 리스트를 반환\n",
    "\n",
    "print(list_intersection(a,b))\n",
    "print(list_intersection(c,d))\n",
    "print(list_intersection(e,f))\n",
    "print()\n",
    "print(list_difference(a,b)) #a-b\n",
    "print(list_difference(b,a)) #b-a\n",
    "print(list_difference(c,d)) #c-d\n",
    "print(list_difference(d,c)) #d-c\n",
    "print(list_difference(e,f)) #e-f\n",
    "print(list_difference(f,e)) #f-e"
   ]
  },
  {
   "cell_type": "markdown",
   "id": "5dbed82c",
   "metadata": {},
   "source": [
    "4번 문제 설명  \n",
    "교집합  \n",
    "1. 예시로 쓰기 위한 리스트들인 a~f를 작성한다.\n",
    "2. 두 개의 리스트에 대한 '교집합'을 반환하는 함수 llist_intersection(lista, listb)를 선언한다.\n",
    "3. 새로운 리스트 l 을 선언한다.\n",
    "4. 새로운 리스트 intersec을 선언한다. \n",
    "5. l 리스트에 인자로 받은 두 리스트를 이어붙힌다.\n",
    "6. for문을 이용하여 리스트내의 요소의 개수만큼 반복하도록한다. 이 때 i에는 l 리스트의 요소들이 순서대로 들어간다.\n",
    "7. if문을 통해 i 즉 리스트 l 의 요소가 lista 와 listb 에 모두 존재하고 intersec 리스트에는 이미 존재하지 않을때(중복해서 들어가지 않기위해)\n",
    "8. append를 이용하여 intersec 리스트에 추가한다.\n",
    "9. return sorted(intersec)을 통해 정렬된 intersec 리스트를 반환한다.\n",
    "10. 결과를 확인한다.\n",
    "\n",
    "차집합  \n",
    "1. 두 개의 리스트에 대한 '차집합'을 반환하는 함수 list_difference(lista, listb)를 선언한다.\n",
    "2. 새로운 리스트 differ을 선언한다.\n",
    "3. for문을 이용하여 lista 내의 요소의 개수만큼 반복하도록한다. 이 때 i에는 lista의 요소들이 순서대로 들어간다.\n",
    "4. if문을 통해 i 즉 lista의 요소가 listb에 존재하지 않을 경우\n",
    "5. append를 이용하여 i 값을 differ 리스트에 추가한다.\n",
    "6. return sorted(differ)을 통해 정렬된 differ 리스트를 반환한다.\n",
    "7. 결과를 확인한다."
   ]
  },
  {
   "cell_type": "markdown",
   "id": "e50eac34",
   "metadata": {},
   "source": [
    "5. 두 개의 양의 정수를 인자로 받아서 해당 범위안에 있는 소수(prime number)의 리스트를 출력하는 함수 print_primenumber(a, b)를 작성하시오.\n",
    "* 이미 구현된 모듈이나 라이브러리는 사용하지 않는다.\n",
    "* 함수의 반환(return)은 없으며 함수 내의 끝에서 .format()을 사용하여 다음과 같이 출력한다.\n",
    "    + print_primenumber(2, 10)\n",
    "        - 2 이상 10 이하 정수 중 소수 리스트: [2, 3, 5, 7]"
   ]
  },
  {
   "cell_type": "code",
   "execution_count": 10,
   "id": "58f72183",
   "metadata": {},
   "outputs": [
    {
     "name": "stdout",
     "output_type": "stream",
     "text": [
      "2 이상 10 이하 정수 중 소수 리스트 : [2, 3, 5, 7] \n",
      "2 이상 100 이하 정수 중 소수 리스트 : [2, 3, 5, 7, 11, 13, 17, 19, 23, 29, 31, 37, 41, 43, 47, 53, 59, 61, 67, 71, 73, 79, 83, 89, 97] "
     ]
    }
   ],
   "source": [
    "a=2\n",
    "b=10\n",
    "c=2\n",
    "d=100\n",
    "def print_primenumber(a, b): # 두 개의 양의 정수를 인자로 받아서 해당 범위안에 있는 소수의 리스트를 출력하는 함수\n",
    "    prime=list() #소수 리스트 생성\n",
    "    for i in range(a,b) : #a에서 b까지 반복\n",
    "        check = True #check = True라는 불형 변수 선언\n",
    "        for j in range(2,i): # 이중for문 \n",
    "            if(i%j == 0):  #  소수가 아닌 조건 \n",
    "                check=False # check를 False로\n",
    "                break # 소수가 아닐 경우 반복문을 빠져나오고 첫번째 for문으로 돌아간다\n",
    "        if (check): #소수일 경우 : check = True\n",
    "            prime.append(i) #소수 리스트에 i값을 추가\n",
    "    print('{} 이상 {} 이하 정수 중 소수 리스트 : {}'.format(a,b,prime),end=' ') #문자열 포멧팅을 이용하여 출력\n",
    "        \n",
    "    \n",
    "\n",
    "print_primenumber(a,b)\n",
    "print()\n",
    "print_primenumber(c,d)"
   ]
  },
  {
   "cell_type": "markdown",
   "id": "63b44320",
   "metadata": {},
   "source": [
    "5번 문제 설명  \n",
    "1. 두 개의 양의 정수를 인자로 받아서 해당 범위안에 있는 소수의 리스트를 출력하는 함수인 print_primenumber(a, b)를 선언한다.\n",
    "2. prime이라는 리스트를 생성한다.\n",
    "3. for문을 통해 a값에서 b값까지 반복한다.\n",
    "4. check = True 라는 bool형 변수를 선언한다.\n",
    "5. for문을 하나 더 사용한다.(이중for문)\n",
    "6. if문을 이용해서 소수가 아닐 조건을 입력한다. i%j == 0 조건을 만족할 경우 check를 False로 바꾼다.\n",
    "7. 소수가 아닐경우 break를 통해 반복문을 빠져나오고 첫번째 for문으로 돌아간다.\n",
    "8. if문을 이용하여 check == True 즉 소수일경우\n",
    "9. prime 리스트에 append를 사용하여 소수 값을 추가한다.\n",
    "10. 함수의 끝부분에 print와 문자열 포멧팅 기능을 사용하여 prime 리스트 안에 담긴 소수 값들을 출력하도록 한다.\n",
    "11. 결과를 확인한다."
   ]
  },
  {
   "cell_type": "markdown",
   "id": "5a96905d",
   "metadata": {},
   "source": [
    "웹 URL로 지정된 웹페이지를 문자열로 가져와   \n",
    "1) 모든 HTML 태그를 제외한 순수 텍스트 문자열만을 걸러내고,   \n",
    "2) 그 순수 텍스트 문자열 안에 존재하는 단어가 총 몇개인지 출력하는 프로그램을 작성하시오."
   ]
  },
  {
   "cell_type": "code",
   "execution_count": 43,
   "id": "a5f3d541",
   "metadata": {},
   "outputs": [
    {
     "name": "stdout",
     "output_type": "stream",
     "text": [
      "4029\n",
      "8363\n"
     ]
    }
   ],
   "source": [
    "import requests\n",
    "\n",
    "req1 = requests.get('https://lol.ps/') #lol.ps사이트에서 html을 문자열로 받아온다.\n",
    "req2 = requests.get('https://lostark.inven.co.kr/')\n",
    "source1 = req1.text #source에 저장\n",
    "source2 =  req2.text\n",
    "\n",
    "\n",
    "def remove_markup(source): #markup 제거함수\n",
    "    s=list(source) #문자열 source를 리스트로 변환하여 s에 저장\n",
    "    char = \"\" #빈 문자열 char선언\n",
    "    check = True # check라는 불형 변수 선언\n",
    "    for i in range(len(s)): #리스트의 길이만큼 반복\n",
    "        if (s[i] == '<' ): #s 리스트의 i번째 인덱스값이 '<'일경우\n",
    "            check = False # check를 False로\n",
    "        elif (s[i] == '>' and check == False): #s 리스트의 i번째 인덱스에 해당하는 '>'이고 check가 False이면\n",
    "            check = True #chek를 True로\n",
    "        elif (check == True): #check가 Ture이면\n",
    "            char += s[i] #char라는 빈 문자열에 s리스트의 i번째 인덱스에 해당하는 문자를 추가\n",
    "            \n",
    "    return char.split() #공백을 기준으로 문자열을 나눠서 리스트로 바꾼뒤 반환\n",
    "\n",
    "l = remove_markup(source1) \n",
    "k = remove_markup(source2)\n",
    "print(len(l))  # https://lol.ps/ 사이트의 순수 문자열 갯수 출력\n",
    "print(len(k))  # https://lostark.inven.co.kr/ 사이트의 순수 문자열 갯수 출력"
   ]
  },
  {
   "cell_type": "markdown",
   "id": "fd432615",
   "metadata": {},
   "source": [
    "6번 문제 설명  \n",
    "1. 먼저 URL로 지정된 웹페이지를 특정 문자열로 가져오는 문제의 코드 예시를 작성한다.\n",
    "2. marup을 제거하는 함수 remove_markup을 선언한다 이 함수는 문자열 소스를 인수로 전달받는다.\n",
    "3. 전달받은 문자열을 list로 변환하여 s에 저장한다.\n",
    "4. char라는 빈 문자열을 선언한다.\n",
    "5. check라는 불형 변수를 선언한다.\n",
    "6. 리스트 s 의 길이만큼 반복하도록 for문의 조건식을 작성한다.\n",
    "7. s[i]가 '<'면 check는 False가 된다.\n",
    "8. s[i]가 '>'이고 check가 False이면 check는 True가 된다.\n",
    "9. check가 True이면 char라는 빈 문자열에 s[i] 리스트 값을 추가한다.\n",
    "10. 7번부터 9번까지는 '<'문자와 '>'문자 사이의 문자들을 char라는 빈 문자열에 추가하지 않도록 하는 조건문들이다. '<'문자가 발견되면 다음 '>'문자가 발견될때까지의 모든 문자들을 char에 추가하지 않는다. 따라서 태그를 제거한 순수 문자열만을 char에 추가할 수 있게 된다.\n",
    "11. char문자열을 공백을 기준으로 나눠 반환한다.\n",
    "12. 결과를 확인한다.\n"
   ]
  },
  {
   "cell_type": "markdown",
   "id": "4350c044",
   "metadata": {},
   "source": [
    "다른 문제들은 비교적으로 쉽게 해결했습니다.   \n",
    "하지만 마지막 문제를 해결하면서 <> 사이의 문자들의 갯수를 세지 않도록 까지는 구현했는데 <> code </>  와 같은 형식이 있을 때는 code는 순수 문자열로 취급하지 않아야 하는데 제 코드는 code도 순수 문자열로 취급합니다. 이 문제를 어떻게 해결해야 할 지 모르겠습니다.  \n",
    "해결할 수 있는 방법이 있다면 설명을 듣고싶습니다. 감사합니다."
   ]
  },
  {
   "cell_type": "code",
   "execution_count": null,
   "id": "3cb98ec9",
   "metadata": {},
   "outputs": [],
   "source": []
  }
 ],
 "metadata": {
  "kernelspec": {
   "display_name": "Python 3",
   "language": "python",
   "name": "python3"
  },
  "language_info": {
   "codemirror_mode": {
    "name": "ipython",
    "version": 3
   },
   "file_extension": ".py",
   "mimetype": "text/x-python",
   "name": "python",
   "nbconvert_exporter": "python",
   "pygments_lexer": "ipython3",
   "version": "3.8.8"
  }
 },
 "nbformat": 4,
 "nbformat_minor": 5
}
