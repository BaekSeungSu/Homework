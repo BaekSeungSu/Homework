{
 "cells": [
  {
   "cell_type": "markdown",
   "id": "3e581223",
   "metadata": {},
   "source": [
    "a=\"Hello Python\" 문자열을 Slicing과 연결 연산자 (+)를 사용하여 \"Python Hello\"로 변경하시오.  \n",
    "[주의] a 변수 자체에 \"Python Hello\" 문자열이 저장되어야 함"
   ]
  },
  {
   "cell_type": "code",
   "execution_count": 71,
   "id": "76adb400",
   "metadata": {},
   "outputs": [
    {
     "name": "stdout",
     "output_type": "stream",
     "text": [
      "Python Hello\n"
     ]
    }
   ],
   "source": [
    "a=\"Hello Python\"\n",
    "b=a[0:5]\n",
    "c=a[6:12]\n",
    "a=c+\" \"+b\n",
    "print(a)"
   ]
  },
  {
   "cell_type": "markdown",
   "id": "656de92e",
   "metadata": {},
   "source": [
    "1번문제 설명  \n",
    "a변수에 \"Hello Python\"을 저장한다.  \n",
    "b변수에 a문자열을 슬라이싱한 \"Hello\"를 저장한다.  \n",
    "c변수에 a문자열을 슬라이싱한 \"Python\"를 저장한다.  \n",
    "a=c+\" \"+b 연산을 통해 a에 \"Python Hello\"를 저장한다.  \n",
    "a를 출력한다."
   ]
  },
  {
   "cell_type": "markdown",
   "id": "4f2cbd10",
   "metadata": {},
   "source": [
    "b=\"Hello Python World\" 문자열을 Slicing과 연결 연산자 (+)를 사용하여 \"World Python Hello\"로 변경하시오.  \n",
    "[주의] b 변수 자체에 \"World Python Hello\" 문자열이 저장되어야 함"
   ]
  },
  {
   "cell_type": "code",
   "execution_count": 72,
   "id": "defdde2c",
   "metadata": {},
   "outputs": [
    {
     "name": "stdout",
     "output_type": "stream",
     "text": [
      "World Python Hello\n"
     ]
    }
   ],
   "source": [
    "b=\"Hello Python World\"\n",
    "x=b[0:5]\n",
    "y=b[6:12]\n",
    "z=b[13:18]\n",
    "b=z+\" \"+y+\" \"+x\n",
    "print(b)"
   ]
  },
  {
   "cell_type": "markdown",
   "id": "26229347",
   "metadata": {},
   "source": [
    "2번문제 설명  \n",
    "b변수에 \"Hello Python World\"를 저장한다.  \n",
    "x변수에 b문자열을 슬라이싱한 \"Hello\"를 저장한다.  \n",
    "y변수에 b문자열을 슬라이싱한 \"Python\"를 저장한다.  \n",
    "z변수에 b문자열을 슬라이싱한 \"World\"를 저장한다.  \n",
    "b=z+\" \"+y+\" \"+x 연산을 통해 b에 \"World Python Hello\"를 저장한다.  \n",
    "b를 출력한다."
   ]
  },
  {
   "cell_type": "markdown",
   "id": "0a809779",
   "metadata": {},
   "source": [
    "c=\"Hello\"를 \"olleH\"로 변경하시오  \n",
    "[주의] c 변수 자체에 \"olleH\" 문자열이 저장되어야 함"
   ]
  },
  {
   "cell_type": "code",
   "execution_count": 10,
   "id": "ff056eed",
   "metadata": {},
   "outputs": [
    {
     "name": "stdout",
     "output_type": "stream",
     "text": [
      "olleH\n"
     ]
    }
   ],
   "source": [
    "c=\"Hello\"\n",
    "c=c[::-1]\n",
    "print(c)"
   ]
  },
  {
   "cell_type": "markdown",
   "id": "7ab2b2da",
   "metadata": {},
   "source": [
    "3번문제 설명  \n",
    "c에 문자열 \"Hello\"를 저장한다.  \n",
    "c[::-1] 를 통해 c에 \"Hello\" 문자열을 역순으로 저장한다.  \n",
    "c를 출력한다."
   ]
  },
  {
   "cell_type": "markdown",
   "id": "be4444c0",
   "metadata": {},
   "source": [
    "s=\"python\"에 대해 다음 문제를 풀어보시오.  \n",
    "s[0], s[0][0], s[0][0][0]은 각각 어떤 값이 나오는지 확인하고 그 이유를 나름대로 설명해 보시오.  \n",
    "s[-100], s[100]은 값이 나오는지 에러가 나오는지 확인하고 그 결과에 대한 이유를 나름대로 설명해 보시오.  \n",
    "s[-100, 100]은 값이 나오는지 에러가 나오는지 확인하고 그 결과에 대한 이유를 나름대로 설명해 보시오.  \n",
    "s[1:-1]의 결과를 확인하고 그 결과에 대한 이유를 정확하게 설명하시오.  \n",
    "s[3:-3]의 결과를 확인하고 그 결과에 대한 이유를 정확하게 설명하시오.  "
   ]
  },
  {
   "cell_type": "code",
   "execution_count": 2,
   "id": "45ddd894",
   "metadata": {},
   "outputs": [
    {
     "name": "stdout",
     "output_type": "stream",
     "text": [
      "p\n",
      "p\n",
      "p\n",
      "ytho\n",
      "\n"
     ]
    }
   ],
   "source": [
    "s=\"python\"\n",
    "print(s[0]) #s문자열의 '[0] 인덱스 값인 p를 출력한다\n",
    "print(s[0][0]) # \n",
    "print(s[0][0][0]) #\n",
    "#print(s[-100,100]) #에러\n",
    "print(s[1:-1]) #인덱스 '1'에 해당하는 문자인 'y'부터 인덱스 '-1'에 해당하는 문자인 'n'의 바로 앞의 문자인 o까지 출력하기 때문에 'ytho'가 출력된다 .\n",
    "print(s[3:-3]) #인덱스 '3'에  해당하는 문자는 'h'이고 인덱스 -3에 해당하는 문자도 'h'이기 때문에 그 사이에 해당하는 문자는 존재하지 않는다 따라서 아무것도 출력되지 않는다."
   ]
  },
  {
   "cell_type": "markdown",
   "id": "87e03f4d",
   "metadata": {},
   "source": [
    "4번문제 설명  \n",
    "s[0]는 문자열의 0 인덱스 값인 p 를 출력한다.  \n",
    "s[0][0]는 이차원 배열로 선언되었다. c언어나 자바에서는 초기화가 제대로 되지 않으면 오류가 발생하지만 파이썬은 동적할당을 지원해주기 때문에 나머지 배열의 요소들을 초기화 해주지 않아도 p값이 출력된 것 같다.\n",
    "s[0][0][0]도 마찬가지로 3차원 배열이지만 동적할당을 제공해주어서 오류 없이 첫번째 인덱스 값인 p만 출력해 준 것 같다.  \n",
    "\n",
    "아직 위의 3 방법은 어떻게 작동하는지 잘 모르겠습니다. 교수님의 설명을 듣고 정확히 이해 할 수 있도록 하고 싶습니다.  \n",
    "\n",
    "s[-100,100]은 에러가 발생한다. s문자열의 최대 양수 인덱스값은 5이고 음수 인덱스값은 -6이기 때문에 인덱스 범위를 초과하므로 발생한 것 같다.  \n",
    "s[1:-1]은 s[1:5]와 같다. 따라서 인덱스 1부터 4까지의 문자열 값이 출력되므로 ytho만 출력된다.  \n",
    "s[3:-3]은 s[3:3]와 같다. 따라서 인덱스 3부터 2까지의 문자열 값이 출력되어야 하지만 해당 인덱스 범위 내에 해당하는 문자열을 없기 때문에 출력이 되지 않는다."
   ]
  },
  {
   "cell_type": "markdown",
   "id": "f9a90eca",
   "metadata": {},
   "source": [
    "for문을 활용하여 1부터 100사이의 홀수를 출력하시오."
   ]
  },
  {
   "cell_type": "code",
   "execution_count": 1,
   "id": "78b8f6c4",
   "metadata": {},
   "outputs": [
    {
     "name": "stdout",
     "output_type": "stream",
     "text": [
      "1\n",
      "3\n",
      "5\n",
      "7\n",
      "9\n",
      "11\n",
      "13\n",
      "15\n",
      "17\n",
      "19\n",
      "21\n",
      "23\n",
      "25\n",
      "27\n",
      "29\n",
      "31\n",
      "33\n",
      "35\n",
      "37\n",
      "39\n",
      "41\n",
      "43\n",
      "45\n",
      "47\n",
      "49\n",
      "51\n",
      "53\n",
      "55\n",
      "57\n",
      "59\n",
      "61\n",
      "63\n",
      "65\n",
      "67\n",
      "69\n",
      "71\n",
      "73\n",
      "75\n",
      "77\n",
      "79\n",
      "81\n",
      "83\n",
      "85\n",
      "87\n",
      "89\n",
      "91\n",
      "93\n",
      "95\n",
      "97\n",
      "99\n"
     ]
    }
   ],
   "source": [
    "for i in range(0,50) :\n",
    "    print(i*2+1)"
   ]
  },
  {
   "cell_type": "markdown",
   "id": "c5e43dcc",
   "metadata": {},
   "source": [
    "5번문제 설명  \n",
    "for문을 이용하여 0부터 49까지 반복하게 했다.  \n",
    "홀수 계산식을 이용하여 1부터 100사이의 홀수를 출력했다."
   ]
  },
  {
   "cell_type": "markdown",
   "id": "56688d52",
   "metadata": {},
   "source": [
    "while문을 활용하여 1부터 100사이의 짝수의 합을 계산하여 출력하시오."
   ]
  },
  {
   "cell_type": "code",
   "execution_count": 4,
   "id": "0956830e",
   "metadata": {},
   "outputs": [
    {
     "name": "stdout",
     "output_type": "stream",
     "text": [
      "2550\n"
     ]
    }
   ],
   "source": [
    "i=1\n",
    "sum=0\n",
    "while(i<51) :\n",
    "    sum+=(i*2)\n",
    "    i+=1\n",
    "print(sum)"
   ]
  },
  {
   "cell_type": "markdown",
   "id": "5451a2d9",
   "metadata": {},
   "source": [
    "i=1로 i를 선언하고 초기화한다.  \n",
    "sum=0로 변수를 선언하고 초기화한다.  \n",
    "while문을 이용하여 i값이 51보다 작을때까지 반복하게한다.  \n",
    "sum에 짝수값들을 더해준다.  \n",
    "i의 값에 1씩 더해준다.  \n",
    "sum을 출력한다."
   ]
  },
  {
   "cell_type": "markdown",
   "id": "737c2a31",
   "metadata": {},
   "source": [
    "사용자로 부터 임의의 정수를 입력받고, 해당 숫자를 역순으로 출력하는 프로그램을 작성하시오.  \n",
    "  \n",
    "[실행 예]  \n",
    "  \n",
    " 정수를 입력하세요: 3125  \n",
    " 숫자 역순은 5213 입니다.  "
   ]
  },
  {
   "cell_type": "code",
   "execution_count": 43,
   "id": "526f0780",
   "metadata": {},
   "outputs": [
    {
     "name": "stdout",
     "output_type": "stream",
     "text": [
      "정수를 입력하세요 : 54321\n",
      "12345\n"
     ]
    }
   ],
   "source": [
    "i=input(\"정수를 입력하세요 : \")\n",
    "i_list=list(i)\n",
    "i_list.reverse()\n",
    "print(\"\".join(i_list))"
   ]
  },
  {
   "cell_type": "markdown",
   "id": "1891df77",
   "metadata": {},
   "source": [
    "사용자로부터 정수를 input을 통해 입력받는다.  \n",
    "입력받은 문자열 i 를 list(i)를 사용해서 i_list라는 새로운 리스트를 만든다.  \n",
    "reverse() 메소드를 이용하여 리스트 요소들을 반전시킨다.  \n",
    "join을 이용하여 출력한다."
   ]
  },
  {
   "cell_type": "markdown",
   "id": "bc8713e4",
   "metadata": {},
   "source": [
    "사용자로 부터 정수를 입력받아서 1부터 그 사이에 존재하는 소수 (Prime number)를 출력하는 파이썬 프로그램을 작성하시오."
   ]
  },
  {
   "cell_type": "code",
   "execution_count": 103,
   "id": "f58fea4f",
   "metadata": {},
   "outputs": [
    {
     "name": "stdout",
     "output_type": "stream",
     "text": [
      "정수 입력 : 100\n",
      "2 3 5 7 11 13 17 19 23 29 31 37 41 43 47 53 59 61 67 71 73 79 83 89 97 "
     ]
    }
   ],
   "source": [
    "n = int(input(\"정수 입력 : \"))\n",
    "\n",
    "for i in range(2,n) :\n",
    "    check = True\n",
    "    for j in range(2,i):\n",
    "        if(i%j == 0):\n",
    "            check=False\n",
    "            break\n",
    "    if (check):\n",
    "        print(i,end=\" \")"
   ]
  },
  {
   "cell_type": "markdown",
   "id": "8a243184",
   "metadata": {},
   "source": [
    "사용자로부터 정수를 입력받아 int로 변환하여 n에 저장한다.  \n",
    "for문을 통해 i=2부터 n까지 반복한다. (이때 1은 소수에 포함되지 않기 때문에 2부터 시작한다)  \n",
    "check = True로 선언  및 초기화 한다.  \n",
    "for문을 이용하여 if문에서 i%j가 0이면 소수가 아니므로 check는 False가 된다.  그리고 break한다.  \n",
    "if문을 통해 check가 True이면 소수이므로 print문을 통해 소수를 출력한다."
   ]
  },
  {
   "cell_type": "markdown",
   "id": "43ff4c43",
   "metadata": {},
   "source": [
    "Kevin과 Stuart는 게임을 한다. 규칙은 아래와 같다.  \n",
    "\n",
    "두 플레이어에게 같은 string, S, 가 주어진다.  \n",
    "두 플레이어는 string S의 문자를 사용하여 substring을 만들어야 한다(중복 가능).  \n",
    "Stuart는 자음으로 시작하는 단어를 만들어야 한다.  \n",
    "Kevin은 모음으로 시작하는 단어를 만들어야 한다.  \n",
    "게임은 두 플레이어가 만들 수 있는 모든 단어를 만들었을 때 끝난다.  \n",
    "점수 계산 : substring 1개당 +1 점을 획득한다. (아래 그림 참고)  \n",
    "사용자로 부터 대문자로 이루어진 string S를 입력받고, 승자와 그의 점수를 출력하는 프로그램을 작성하시오.  \n",
    "  \n",
    "[실행 예]  \n",
    "  \n",
    "  string S를 입력하세요: BANANA  \n",
    "  승자: Stuart 점수: 12  "
   ]
  },
  {
   "cell_type": "code",
   "execution_count": 1,
   "id": "a9b9de4a",
   "metadata": {},
   "outputs": [
    {
     "name": "stdout",
     "output_type": "stream",
     "text": [
      "string S를 입력하세요.BANANA\n",
      "승자 : stuart  점수 :  12\n"
     ]
    }
   ],
   "source": [
    "word = input(\"string S를 입력하세요.\")\n",
    "long = len(word)\n",
    "\n",
    "kevin = 0\n",
    "stuart = 0\n",
    "\n",
    "for j in range(long):\n",
    "    for i in range(long):\n",
    "        if word[i] in \"AEIOUaeiou\":\n",
    "            if word[i:i+j+1] in word and i+j < long:\n",
    "                kevin += 1\n",
    "        else:\n",
    "            if word[i:i+j+1] in word and i+j < long:\n",
    "                stuart += 1\n",
    "\n",
    "\n",
    "                \n",
    "if kevin == stuart:\n",
    "    print(\"동점입니다.  점수 : \", kevin)\n",
    "    \n",
    "elif kevin > stuart:\n",
    "    print(\"승자 : kevin  점수 : \", kevin)\n",
    "    \n",
    "else:\n",
    "    print(\"승자 : stuart  점수 : \", stuart)\n",
    "                "
   ]
  },
  {
   "cell_type": "markdown",
   "id": "581ca84a",
   "metadata": {},
   "source": [
    "문자열을 받아 word에 저장한다.  \n",
    "word문자열의 길이를 long에 저장한다.  \n",
    "kevin, stuart 를 선언하고 0으로 초기화한다.  \n",
    "이중for문을 이용해서 문제를 해결한다.  \n",
    "kevin은 if문을 통해 모음이 시작되는 부분부터 검사한다.  \n",
    "stuart는 if문을 통해 자음이 시작되는 부분부터 검사한다.  \n",
    "이중 for 문안에서 입력된 각각의 문자열을 처음에는 한글자씩 검사한다.  \n",
    "그다음 두글자씩 묶어서 검사하고 다음에는 4글자씩... 이런 식으로 문자열을 검사한다.  이때 i+j가 문자열의 길이보다 커지면 안된다는 조건을 추가한다.  \n",
    "if문을 통해 검사한 문자열이 word문자열안에 있다면 각각에 해당하는 kevin이나 stuart에 점수를 더해준다.  \n",
    "승자와 승자의 점수를 출력한다."
   ]
  },
  {
   "cell_type": "markdown",
   "id": "c32d669b",
   "metadata": {},
   "source": [
    "알파벳 소문자만으로 이루어진 string, S, 가 주어지고 아래 2가지 연산을 수행할 수 있다.  \n",
    "추가 : string S의 끝에 알파벳 소문자 하나를 추가한다.  \n",
    "삭제 : string S의 마지막 문자 하나를 삭제한다. empty string에서 삭제 연산을 수행한 결과는 empty string이다.  \n",
    "두 개의 string, s와 t, 그리고 정수 k가 주어질 때, 정확히 k번의 연산을 통해 s를 t로 바꿀 수 있는지 판단하는 함수를 작성하시오.  "
   ]
  },
  {
   "cell_type": "code",
   "execution_count": 68,
   "id": "e68f83f4",
   "metadata": {},
   "outputs": [
    {
     "name": "stdout",
     "output_type": "stream",
     "text": [
      "s = ashely\n",
      "t = ash\n",
      "k = 2\n",
      "NO\n"
     ]
    }
   ],
   "source": [
    "def appendDelete(s, t, k):\n",
    "    '''\n",
    "    함수 포맷 변경하지 마세요.\n",
    "    s를 정확히 k번의 연산을 통해 t로 바꿀 수 있다면 'Yes'를 아니면 'No'를 return 해주세요.\n",
    "    '''\n",
    "    s_len=len(s)\n",
    "    t_len=len(t)\n",
    "    count=0\n",
    "    sub_len=0\n",
    "    if(s==t and k>1):\n",
    "        return 'Yes'     \n",
    "    elif(s!=t and s_len>t_len):\n",
    "        for i in range(t_len):\n",
    "            if(s[i] != t[i]):\n",
    "                count=(t_len-i)*2\n",
    "                break\n",
    "        sub_len=s_len-t_len\n",
    "        if(k>=count+sub_len and k%2 !=0):\n",
    "            return 'Yes'\n",
    "        else:\n",
    "            return 'NO'\n",
    "    elif(s!=t and s_len<t_len):\n",
    "        for i in range(s_len):\n",
    "            if(s[i] != t[i]):\n",
    "                count=(s_len-i)*2\n",
    "                break\n",
    "        sub_len=t_len-s_len\n",
    "        if(k>=count+sub_len and k%2 !=0):\n",
    "            return 'Yes'\n",
    "        else:\n",
    "            return 'NO'\n",
    "    elif(s!=t and s_len==t_len):\n",
    "        for i in range(s_len):\n",
    "            if(s[i] != t[i]):\n",
    "                count=(s_len-i)*2\n",
    "                break\n",
    "        if(k>=count and k%2 ==0):\n",
    "            return 'Yes'\n",
    "        else:\n",
    "            return 'NO'\n",
    "    else:\n",
    "        return 'NO'\n",
    "\n",
    "\n",
    "s=input(\"s = \")\n",
    "t=input(\"t = \")\n",
    "k=int(input(\"k = \"))\n",
    "print(appendDelete(s, t, k))\n"
   ]
  },
  {
   "cell_type": "markdown",
   "id": "4d255108",
   "metadata": {},
   "source": [
    "먼저 전달받은 문자열 s와 t의 길이를 s_len, t_len을 통해 받아준다.  \n",
    "count=0, sub_len=0으로 선언 및 초기화한다.  \n",
    "if문을 이용해서 문자열이 동일하고 k값이 1보다 크면 Yes를 리턴한다.  \n",
    "문자열이 동일하지 않을 경우를 가정한다.  \n",
    "그리고 s의 길이가 t의 길이보다 길경우와 s의 길이가 t의 길이보다 작을 경우, 문자열이 동일하지 않지만 길이가 같을 경우를 조건으로 추가한다.   \n",
    "for문을 이용하여 문자열이 처음으로 달라지는 부분을 찾는다. 그리고 적은 문자열의 길이에서 지금까지 반복한 횟수를 뺀다음 2를 곱한다.  \n",
    "그리고 break를 통해 반복문을 종료하고 sub_len이라는 변수에 긴문자열의 길이 - 작은문자열의 길이 를 저장한다.  \n",
    "조건문을 이용해서 count+sub_len이 k값보다 크거나 같다는 조건을 추가한다.  \n",
    "그리고 두 문자열의 길이가 다를때는 k가 홀수여야하고 길이가 같을때는 k가 짝수여야한다는 조건을 and를 이용하여 추가한다.  \n",
    "조건에 부합하면 Yes를 리턴하고 아닐경우 NO를 리턴한다.  "
   ]
  },
  {
   "cell_type": "code",
   "execution_count": null,
   "id": "6e607bb4",
   "metadata": {},
   "outputs": [],
   "source": []
  }
 ],
 "metadata": {
  "kernelspec": {
   "display_name": "Python 3",
   "language": "python",
   "name": "python3"
  },
  "language_info": {
   "codemirror_mode": {
    "name": "ipython",
    "version": 3
   },
   "file_extension": ".py",
   "mimetype": "text/x-python",
   "name": "python",
   "nbconvert_exporter": "python",
   "pygments_lexer": "ipython3",
   "version": "3.8.8"
  }
 },
 "nbformat": 4,
 "nbformat_minor": 5
}
